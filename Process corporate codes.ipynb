{
 "cells": [
  {
   "cell_type": "code",
   "execution_count": 29,
   "id": "8c9778f4-69ab-4358-aeda-42208178eb94",
   "metadata": {},
   "outputs": [],
   "source": [
    "import pandas as pd\n",
    "import matplotlib as plt\n",
    "import numpy as np\n",
    "import math"
   ]
  },
  {
   "cell_type": "code",
   "execution_count": null,
   "id": "7aa0c7b7-9716-42f3-af17-dbb178df340b",
   "metadata": {},
   "outputs": [],
   "source": [
    "#read the gov corporate codes csv into a dataframe\n",
    "df_chunk = pd.read_csv('C:\\\\Users\\\\R021133\\\\CorporateCodes\\\\00_zenkoku_all_20210531.csv', encoding='Shift_JIS', header=None, index_col=0, low_memory=False, chunksize=500000)\n",
    "\n",
    "chunk_list = []\n",
    "\n",
    "for chunk in df_chunk:\n",
    "  chunk_list.append(chunk)\n",
    "\n",
    "df = pd.concat(chunk_list)\n",
    "\n",
    "print(df.shape)"
   ]
  },
  {
   "cell_type": "code",
   "execution_count": null,
   "id": "422282dd-3b54-4572-a22e-79278f692867",
   "metadata": {},
   "outputs": [],
   "source": [
    "#set the column names since the original data has none\n",
    "col_names = ['法人番号','処理区分','訂正区分','更新年月日','変更年月日','商号又は名称','商号又は名称イメージID','法人種別','国内所在地（都道府県）',\n",
    "             '国内所在地（市区町村）','国内所在地（丁目番地等）','国内所在地イメージID','都道府県コード','市区町村コード','郵便番号','国外所在地','国外所在地イメージID',\n",
    "             '登記記録の閉鎖等年月日','登記記録の閉鎖等の事由','継承先法人番号','変更事由の詳細','法人番号指定年月日','最新履歴','商号又は名称（英語表記）',\n",
    "             '国内所在地（都道府県）（英語表記）','国内所在地（市区町村）（英語表記）','国外所在地（英語表記）','フリガナ','検索対象外']\n",
    "\n",
    "df.columns = col_names"
   ]
  },
  {
   "cell_type": "code",
   "execution_count": null,
   "id": "db0756da-1641-43d3-ac6d-e2daa9cd6f1f",
   "metadata": {},
   "outputs": [],
   "source": [
    "#inspect the dataframe\n",
    "print(df.nunique())\n",
    "print(df.count())"
   ]
  },
  {
   "cell_type": "code",
   "execution_count": 30,
   "id": "30fc3bce-b5d0-4f0c-bd09-27467eb8348a",
   "metadata": {},
   "outputs": [
    {
     "name": "stdout",
     "output_type": "stream",
     "text": [
      "['北海道' '青森県' '岩手県' '宮城県' '秋田県' '山形県' '福島県' '茨城県' '栃木県' '群馬県' '埼玉県' '千葉県'\n",
      " '東京都' '神奈川県' '新潟県' '富山県' '石川県' '福井県' '山梨県' '長野県' '岐阜県' '静岡県' '愛知県' '三重県'\n",
      " '滋賀県' '京都府' '大阪府' '兵庫県' '奈良県' '和歌山県' '鳥取県' '島根県' '岡山県' '広島県' '山口県' '徳島県'\n",
      " '香川県' '愛媛県' '高知県' '福岡県' '佐賀県' '長崎県' '熊本県' '大分県' '宮崎県' '鹿児島県' '沖縄県' nan]\n",
      "<class 'numpy.ndarray'>\n",
      "1427\n",
      "13\n"
     ]
    }
   ],
   "source": [
    "#get list of prefectures\n",
    "prefectures = df['国内所在地（都道府県）'].unique()\n",
    "print(prefectures)\n",
    "print(type(prefectures))\n",
    "\n",
    "#check how much prefecture data is missing\n",
    "print(df['国内所在地（都道府県）'].isna().sum())\n",
    "\n",
    "#find out how many splits are necessary to create smaller dataframes with 400,000 rows each\n",
    "required_splits = math.ceil(len(df)/400000)\n",
    "print(required_splits)"
   ]
  },
  {
   "cell_type": "code",
   "execution_count": null,
   "id": "3d982ecc-a6f8-45cb-97a3-5e05ae222c2c",
   "metadata": {},
   "outputs": [],
   "source": [
    "#split dataframe into 13 parts\n",
    "split_df = np.array_split(df,required_splits)\n",
    "\n",
    "#initialize split counter\n",
    "split_count = 0\n",
    "\n",
    "#export each split into an individual csv file\n",
    "for split in split_df:\n",
    "    split_count += 1\n",
    "    split.to_csv('C:\\\\Users\\\\R021133\\\\CorporateCodes\\\\By_Split\\\\Split'+str(split_count)+'.csv')"
   ]
  },
  {
   "cell_type": "code",
   "execution_count": null,
   "id": "d0a10023-1450-42b8-b6f8-a88179761071",
   "metadata": {},
   "outputs": [],
   "source": [
    "#confirm the combined split dataframes is the same size as the original\n",
    "df_check = pd.concat(split_df)\n",
    "\n",
    "if df_check.shape == df.shape:\n",
    "    print('The split dataframe is the same as the original. All good!')\n",
    "else:\n",
    "    print('The split dataframe is different from the original. Not good!')"
   ]
  }
 ],
 "metadata": {
  "kernelspec": {
   "display_name": "Python 3",
   "language": "python",
   "name": "python3"
  },
  "language_info": {
   "codemirror_mode": {
    "name": "ipython",
    "version": 3
   },
   "file_extension": ".py",
   "mimetype": "text/x-python",
   "name": "python",
   "nbconvert_exporter": "python",
   "pygments_lexer": "ipython3",
   "version": "3.8.8"
  }
 },
 "nbformat": 4,
 "nbformat_minor": 5
}
